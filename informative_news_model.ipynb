{
 "cells": [
  {
   "cell_type": "code",
   "execution_count": 1,
   "metadata": {},
   "outputs": [],
   "source": [
    "import re\n",
    "import numpy as np\n",
    "import pandas as pd\n",
    "from sklearn.model_selection import train_test_split\n",
    "from sklearn.feature_extraction.text import TfidfVectorizer\n",
    "from sklearn.linear_model import PassiveAggressiveClassifier, LogisticRegression\n",
    "from sklearn.metrics import accuracy_score, confusion_matrix, plot_confusion_matrix\n",
    "from sklearn.base import TransformerMixin\n",
    "from nltk.corpus import stopwords\n",
    "from sklearn.pipeline import Pipeline\n",
    "from sklearn.cluster import KMeans"
   ]
  },
  {
   "cell_type": "markdown",
   "metadata": {},
   "source": [
    "# Explore and Clean Data"
   ]
  },
  {
   "cell_type": "code",
   "execution_count": 2,
   "metadata": {},
   "outputs": [],
   "source": [
    "\"\"\"\n",
    "Read the data. The data is collected from W-NUT 2020\n",
    "https://github.com/viczong/extract_COVID19_events_from_Twitter\n",
    "\"\"\"\n",
    "train = pd.read_csv(\"dataset/train.tsv\", sep = \"\\t\")\n",
    "test = pd.read_csv(\"dataset/test.tsv\", sep = \"\\t\", header = None).rename(columns = dict(zip(range(0,3),list(train.columns))))"
   ]
  },
  {
   "cell_type": "code",
   "execution_count": 3,
   "metadata": {},
   "outputs": [
    {
     "data": {
      "text/html": [
       "<div>\n",
       "<style scoped>\n",
       "    .dataframe tbody tr th:only-of-type {\n",
       "        vertical-align: middle;\n",
       "    }\n",
       "\n",
       "    .dataframe tbody tr th {\n",
       "        vertical-align: top;\n",
       "    }\n",
       "\n",
       "    .dataframe thead th {\n",
       "        text-align: right;\n",
       "    }\n",
       "</style>\n",
       "<table border=\"1\" class=\"dataframe\">\n",
       "  <thead>\n",
       "    <tr style=\"text-align: right;\">\n",
       "      <th></th>\n",
       "      <th>Id</th>\n",
       "      <th>Text</th>\n",
       "      <th>Label</th>\n",
       "    </tr>\n",
       "  </thead>\n",
       "  <tbody>\n",
       "    <tr>\n",
       "      <th>0</th>\n",
       "      <td>1241490299215634434</td>\n",
       "      <td>Official death toll from #covid19 in the Unite...</td>\n",
       "      <td>INFORMATIVE</td>\n",
       "    </tr>\n",
       "    <tr>\n",
       "      <th>1</th>\n",
       "      <td>1245916400981381130</td>\n",
       "      <td>Dearest Mr. President @USER 1,169 coronavirus ...</td>\n",
       "      <td>INFORMATIVE</td>\n",
       "    </tr>\n",
       "    <tr>\n",
       "      <th>2</th>\n",
       "      <td>1241132432402849793</td>\n",
       "      <td>Latest Updates March 20 ⚠️5274 new cases and 3...</td>\n",
       "      <td>INFORMATIVE</td>\n",
       "    </tr>\n",
       "    <tr>\n",
       "      <th>3</th>\n",
       "      <td>1236107253666607104</td>\n",
       "      <td>真把公主不当干部 BREAKING: 21 people on Grand Princess...</td>\n",
       "      <td>INFORMATIVE</td>\n",
       "    </tr>\n",
       "    <tr>\n",
       "      <th>4</th>\n",
       "      <td>1239673817552879619</td>\n",
       "      <td>OKLAHOMA CITY — The State Department of Educat...</td>\n",
       "      <td>UNINFORMATIVE</td>\n",
       "    </tr>\n",
       "  </tbody>\n",
       "</table>\n",
       "</div>"
      ],
      "text/plain": [
       "                    Id                                               Text  \\\n",
       "0  1241490299215634434  Official death toll from #covid19 in the Unite...   \n",
       "1  1245916400981381130  Dearest Mr. President @USER 1,169 coronavirus ...   \n",
       "2  1241132432402849793  Latest Updates March 20 ⚠️5274 new cases and 3...   \n",
       "3  1236107253666607104  真把公主不当干部 BREAKING: 21 people on Grand Princess...   \n",
       "4  1239673817552879619  OKLAHOMA CITY — The State Department of Educat...   \n",
       "\n",
       "           Label  \n",
       "0    INFORMATIVE  \n",
       "1    INFORMATIVE  \n",
       "2    INFORMATIVE  \n",
       "3    INFORMATIVE  \n",
       "4  UNINFORMATIVE  "
      ]
     },
     "execution_count": 3,
     "metadata": {},
     "output_type": "execute_result"
    }
   ],
   "source": [
    "train.head()"
   ]
  },
  {
   "cell_type": "markdown",
   "metadata": {},
   "source": [
    "### Since the data have many special characters, a cleaner is neccessary to remove them and the stopwords"
   ]
  },
  {
   "cell_type": "code",
   "execution_count": 4,
   "metadata": {},
   "outputs": [],
   "source": [
    "# Get the list of stopwords\n",
    "stops = set(stopwords.words(\"english\"))\n",
    "\n",
    "def cleanText(string):\n",
    "    \"\"\"\n",
    "    Function to clean the text. It will clear all links, \n",
    "    replace all whitespaces and tab by a single white space,\n",
    "    change ampersand to \"and\" and remove it, remove all \n",
    "    non alpha-numeric characters, and finally, remove stopwords\n",
    "    \n",
    "    Arguments:\n",
    "    ----------\n",
    "    string: the string of the text\n",
    "    ----------\n",
    "    \n",
    "    Return: a string of cleaned text\n",
    "    \"\"\"\n",
    "    text = string.lower().split()\n",
    "    text = \" \".join(text)\n",
    "    text = re.sub(r\"http(\\S)+\",' ',text)    \n",
    "    text = re.sub(r\"www(\\S)+\",' ',text)\n",
    "    text = re.sub(r\"&\",' and ',text)  \n",
    "    text = text.replace('&amp',' ')\n",
    "    text = re.sub(r\"[^0-9a-zA-Z]+\",' ',text)\n",
    "    text = text.split()\n",
    "    text = [w for w in text if not w in stops]\n",
    "    text = \" \".join(text)\n",
    "    return text\n",
    "\n",
    "class Cleaner(TransformerMixin):\n",
    "    def fit(self, train_df, y=None):\n",
    "        # TODO: compute self.race_columns to contain every unique\n",
    "        #  value in the race column of train_df, in sorted order,\n",
    "        #  excluding \"?\"\n",
    "#         self.labels = set(train_df['Label'])\n",
    "        \n",
    "\n",
    "        return self\n",
    "\n",
    "    def transform(self, df1):\n",
    "        df1 = df1.apply(lambda x: cleanText(x))\n",
    "        return df1"
   ]
  },
  {
   "cell_type": "markdown",
   "metadata": {},
   "source": [
    "### Check Data Balance"
   ]
  },
  {
   "cell_type": "code",
   "execution_count": 5,
   "metadata": {},
   "outputs": [
    {
     "name": "stdout",
     "output_type": "stream",
     "text": [
      "Train data labels:\n",
      "INFORMATIVE 3273, UNINFORMATIVE: 3663\n",
      "Test data labels:\n",
      "INFORMATIVE 944, UNINFORMATIVE: 1056\n"
     ]
    }
   ],
   "source": [
    "print(\"Train data labels:\")\n",
    "print(f\"INFORMATIVE {len(train[train['Label'] == 'INFORMATIVE']['Label'].index)}, UNINFORMATIVE: {len(train[train['Label'] == 'UNINFORMATIVE'])}\")\n",
    "print(\"Test data labels:\")\n",
    "print(f\"INFORMATIVE {len(test[test['Label'] == 'INFORMATIVE']['Label'].index)}, UNINFORMATIVE: {len(test[test['Label'] == 'UNINFORMATIVE'])}\")"
   ]
  },
  {
   "cell_type": "markdown",
   "metadata": {},
   "source": [
    "The data is balance in the percentage of INFORMATIVE and UNINFORMATIVE data, so there is no need for shuffles and stratify"
   ]
  },
  {
   "cell_type": "code",
   "execution_count": 6,
   "metadata": {},
   "outputs": [],
   "source": [
    "x_train = train['Text']\n",
    "x_test = test['Text']\n",
    "y_train = train['Label']\n",
    "y_test = test['Label']"
   ]
  },
  {
   "cell_type": "markdown",
   "metadata": {},
   "source": [
    "# Prediction Using Passive Agressive Classifier"
   ]
  },
  {
   "cell_type": "markdown",
   "metadata": {},
   "source": [
    "## Vectorize Using Unigram"
   ]
  },
  {
   "cell_type": "code",
   "execution_count": 12,
   "metadata": {},
   "outputs": [
    {
     "name": "stdout",
     "output_type": "stream",
     "text": [
      "Accuracy: 72.7%\n"
     ]
    },
    {
     "data": {
      "text/plain": [
       "<sklearn.metrics._plot.confusion_matrix.ConfusionMatrixDisplay at 0x7f9feed92198>"
      ]
     },
     "execution_count": 12,
     "metadata": {},
     "output_type": "execute_result"
    },
    {
     "data": {
      "image/png": "[encoded data removed]",
      "text/plain": [
       "<Figure size 432x288 with 2 Axes>"
      ]
     },
     "metadata": {
      "needs_background": "light"
     },
     "output_type": "display_data"
    }
   ],
   "source": [
    "# This pipeline use TF-IDF as Vectorizer (Unigram) Passive Agressive Classifier as the main classifier\n",
    "pac_pipeline = Pipeline([\n",
    "    (\"cln\", Cleaner()),\n",
    "    ('tfidf', TfidfVectorizer(stop_words='english', max_df=0.7)),\n",
    "    ('pac', PassiveAggressiveClassifier(max_iter=50))\n",
    "])\n",
    "pac_pipeline.fit(x_train, y_train)\n",
    "pac_pred = pac_pipeline.predict(x_test)\n",
    "pac_score = accuracy_score(y_test, pac_pred)\n",
    "\n",
    "# Print the accuracy metrics\n",
    "print(f'Accuracy: {round(pac_score*100,2)}%')\n",
    "plot_confusion_matrix(pac_pipeline, x_test, y_test, cmap = \"Blues\")"
   ]
  },
  {
   "cell_type": "markdown",
   "metadata": {},
   "source": [
    "## Vectorize Using Bigram and Unigram"
   ]
  },
  {
   "cell_type": "code",
   "execution_count": 13,
   "metadata": {},
   "outputs": [
    {
     "name": "stdout",
     "output_type": "stream",
     "text": [
      "Accuracy: 76.15%\n"
     ]
    },
    {
     "data": {
      "text/plain": [
       "<sklearn.metrics._plot.confusion_matrix.ConfusionMatrixDisplay at 0x7f9faeb26d68>"
      ]
     },
     "execution_count": 13,
     "metadata": {},
     "output_type": "execute_result"
    },
    {
     "data": {
      "image/png": "[encoded data removed]",
      "text/plain": [
       "<Figure size 432x288 with 2 Axes>"
      ]
     },
     "metadata": {
      "needs_background": "light"
     },
     "output_type": "display_data"
    }
   ],
   "source": [
    "# This pipeline use TF-IDF as Vectorizer (Unigram and Bigram) Passive Agressive Classifier as the main classifier\n",
    "pac_pipeline = Pipeline([\n",
    "    ('cln', Cleaner()),\n",
    "    ('tfidf', TfidfVectorizer(stop_words='english', max_df=0.7, ngram_range=(1, 2))),\n",
    "    ('pac', PassiveAggressiveClassifier(max_iter=50))\n",
    "])\n",
    "pac_pipeline.fit(x_train, y_train)\n",
    "pac_pred = pac_pipeline.predict(x_test)\n",
    "pac_score = accuracy_score(y_test, pac_pred)\n",
    "\n",
    "# Print the accuracy metrics\n",
    "print(f'Accuracy: {round(pac_score*100,2)}%')\n",
    "plot_confusion_matrix(pac_pipeline, x_test, y_test, cmap = \"Blues\")"
   ]
  },
  {
   "cell_type": "markdown",
   "metadata": {},
   "source": [
    "## Vectorize Using Bigram"
   ]
  },
  {
   "cell_type": "code",
   "execution_count": 14,
   "metadata": {},
   "outputs": [
    {
     "name": "stdout",
     "output_type": "stream",
     "text": [
      "Accuracy: 72.15%\n"
     ]
    },
    {
     "data": {
      "text/plain": [
       "<sklearn.metrics._plot.confusion_matrix.ConfusionMatrixDisplay at 0x7f9fa37c2f98>"
      ]
     },
     "execution_count": 14,
     "metadata": {},
     "output_type": "execute_result"
    },
    {
     "data": {
      "image/png": "[encoded data removed]",
      "text/plain": [
       "<Figure size 432x288 with 2 Axes>"
      ]
     },
     "metadata": {
      "needs_background": "light"
     },
     "output_type": "display_data"
    }
   ],
   "source": [
    "# This pipeline use TF-IDF as Vectorizer (Bigram only) Passive Agressive Classifier as the main classifier\n",
    "pac_pipeline = Pipeline([\n",
    "    ('cln', Cleaner()),\n",
    "    ('tfidf', TfidfVectorizer(stop_words='english', max_df=0.7, ngram_range=(2, 2))),\n",
    "    ('pac', PassiveAggressiveClassifier(max_iter=50))\n",
    "])\n",
    "pac_pipeline.fit(x_train, y_train)\n",
    "pac_pred = pac_pipeline.predict(x_test)\n",
    "pac_score = accuracy_score(y_test, pac_pred)\n",
    "\n",
    "# Print the accuracy metrics\n",
    "print(f'Accuracy: {round(pac_score*100,2)}%')\n",
    "plot_confusion_matrix(pac_pipeline, x_test, y_test, cmap = \"Blues\")"
   ]
  },
  {
   "cell_type": "markdown",
   "metadata": {},
   "source": [
    "# Prediction Using Logistic Regression"
   ]
  },
  {
   "cell_type": "markdown",
   "metadata": {},
   "source": [
    "## Vectorize Using Unigram"
   ]
  },
  {
   "cell_type": "code",
   "execution_count": 15,
   "metadata": {},
   "outputs": [
    {
     "name": "stdout",
     "output_type": "stream",
     "text": [
      "Accuracy: 74.8%\n"
     ]
    },
    {
     "data": {
      "text/plain": [
       "<sklearn.metrics._plot.confusion_matrix.ConfusionMatrixDisplay at 0x7f9fa36b8c88>"
      ]
     },
     "execution_count": 15,
     "metadata": {},
     "output_type": "execute_result"
    },
    {
     "data": {
      "image/png": "[encoded data removed]",
      "text/plain": [
       "<Figure size 432x288 with 2 Axes>"
      ]
     },
     "metadata": {
      "needs_background": "light"
     },
     "output_type": "display_data"
    }
   ],
   "source": [
    "# This pipeline use Logistic Regression as the main classifier\n",
    "lr_pipeline = Pipeline([\n",
    "    ('cln', Cleaner()),\n",
    "    ('tfidf', TfidfVectorizer(stop_words='english', max_df=0.7)),\n",
    "    ('lr', LogisticRegression())\n",
    "])\n",
    "lr_pipeline.fit(x_train, y_train)\n",
    "lr_pred = lr_pipeline.predict(x_test)\n",
    "lr_score = accuracy_score(y_test, lr_pred)\n",
    "\n",
    "# Print the accuracy metrics\n",
    "print(f'Accuracy: {round(lr_score*100,2)}%')\n",
    "plot_confusion_matrix(lr_pipeline, x_test, y_test, cmap=\"Blues\")"
   ]
  },
  {
   "cell_type": "markdown",
   "metadata": {},
   "source": [
    "## Vectorize Using Bigram and Unigram"
   ]
  },
  {
   "cell_type": "code",
   "execution_count": 16,
   "metadata": {},
   "outputs": [
    {
     "name": "stdout",
     "output_type": "stream",
     "text": [
      "Accuracy: 74.3%\n"
     ]
    },
    {
     "data": {
      "text/plain": [
       "<sklearn.metrics._plot.confusion_matrix.ConfusionMatrixDisplay at 0x7f9fa2643cc0>"
      ]
     },
     "execution_count": 16,
     "metadata": {},
     "output_type": "execute_result"
    },
    {
     "data": {
      "image/png": "[encoded data removed]",
      "text/plain": [
       "<Figure size 432x288 with 2 Axes>"
      ]
     },
     "metadata": {
      "needs_background": "light"
     },
     "output_type": "display_data"
    }
   ],
   "source": [
    "# This pipeline use use TF-IDF as Vectorizer (Unigram and Bigram) Logistic Regression as the main classifier\n",
    "lr_pipeline = Pipeline([\n",
    "    ('cln', Cleaner()),\n",
    "    ('tfidf', TfidfVectorizer(stop_words='english', max_df=0.7, ngram_range=(1, 2))),\n",
    "    ('lr', LogisticRegression())\n",
    "])\n",
    "lr_pipeline.fit(x_train, y_train)\n",
    "lr_pred = lr_pipeline.predict(x_test)\n",
    "lr_score = accuracy_score(y_test, lr_pred)\n",
    "\n",
    "# Print the accuracy metrics\n",
    "print(f'Accuracy: {round(lr_score*100,2)}%')\n",
    "plot_confusion_matrix(lr_pipeline, x_test, y_test, cmap=\"Blues\")"
   ]
  },
  {
   "cell_type": "markdown",
   "metadata": {},
   "source": [
    "## Vectorize Using Bigram"
   ]
  },
  {
   "cell_type": "code",
   "execution_count": 17,
   "metadata": {},
   "outputs": [
    {
     "name": "stdout",
     "output_type": "stream",
     "text": [
      "Accuracy: 70.35%\n"
     ]
    },
    {
     "data": {
      "text/plain": [
       "<sklearn.metrics._plot.confusion_matrix.ConfusionMatrixDisplay at 0x7f9fa26305c0>"
      ]
     },
     "execution_count": 17,
     "metadata": {},
     "output_type": "execute_result"
    },
    {
     "data": {
      "image/png": "[encoded data removed]",
      "text/plain": [
       "<Figure size 432x288 with 2 Axes>"
      ]
     },
     "metadata": {
      "needs_background": "light"
     },
     "output_type": "display_data"
    }
   ],
   "source": [
    "# This pipeline use use TF-IDF as Vectorizer (Bigram only) Logistic Regression as the main classifier\n",
    "lr_pipeline = Pipeline([\n",
    "    ('cln', Cleaner()),\n",
    "    ('tfidf', TfidfVectorizer(stop_words='english', max_df=0.7, ngram_range=(2, 2))),\n",
    "    ('lr', LogisticRegression())\n",
    "])\n",
    "lr_pipeline.fit(x_train, y_train)\n",
    "lr_pred = lr_pipeline.predict(x_test)\n",
    "lr_score = accuracy_score(y_test, lr_pred)\n",
    "\n",
    "# Print the accuracy metrics\n",
    "print(f'Accuracy: {round(lr_score*100,2)}%')\n",
    "plot_confusion_matrix(lr_pipeline, x_test, y_test, cmap=\"Blues\")"
   ]
  },
  {
   "cell_type": "markdown",
   "metadata": {},
   "source": [
    "## Using K-means As a Preprocessor"
   ]
  },
  {
   "cell_type": "code",
   "execution_count": 18,
   "metadata": {},
   "outputs": [
    {
     "name": "stdout",
     "output_type": "stream",
     "text": [
      "Accuracy: 63.55%\n"
     ]
    },
    {
     "data": {
      "text/plain": [
       "<sklearn.metrics._plot.confusion_matrix.ConfusionMatrixDisplay at 0x7f9fa2a4ae80>"
      ]
     },
     "execution_count": 18,
     "metadata": {},
     "output_type": "execute_result"
    },
    {
     "data": {
      "image/png": "[encoded data removed]",
      "text/plain": [
       "<Figure size 432x288 with 2 Axes>"
      ]
     },
     "metadata": {
      "needs_background": "light"
     },
     "output_type": "display_data"
    }
   ],
   "source": [
    "# This pipeline use K-means as a preprocessor before using Logistic Regression as a classifier\n",
    "lrk_pipeline = Pipeline([\n",
    "    ('cln', Cleaner()),\n",
    "    ('tfidf', TfidfVectorizer(stop_words='english', max_df=0.7)),\n",
    "    ('kmeans', KMeans()),\n",
    "    ('lr', LogisticRegression())\n",
    "])\n",
    "lrk_pipeline.fit(x_train, y_train)\n",
    "lrk_pred = lrk_pipeline.predict(x_test)\n",
    "lrk_score = accuracy_score(y_test, lrk_pred)\n",
    "\n",
    "# Print the metrics\n",
    "print(f'Accuracy: {round(lrk_score*100,2)}%')\n",
    "plot_confusion_matrix(lrk_pipeline, x_test, y_test, cmap=\"Blues\")"
   ]
  },
  {
   "cell_type": "markdown",
   "metadata": {},
   "source": [
    "# Conclusion\n",
    "We can see that the Passive Aggressive Classifier using Unigram and Bigram TF-IDF Vectorizer has the best performance at around 76%%. However, the performance of both Passive Aggressive Classifier and Logistic Regression does not improve much with the combination of unigram and bigram or bigram alone in comparison to unigram. Furthermore, Logistic Regression performs worse when the data is preprocessed by K-means. It is also clear that most of the inaccurate prediction of Logistic Regression is False Positive. Finally, 76% accuracy is not a good classifer."
   ]
  }
 ],
 "metadata": {
  "kernelspec": {
   "display_name": "Python 3",
   "language": "python",
   "name": "python3"
  },
  "language_info": {
   "codemirror_mode": {
    "name": "ipython",
    "version": 3
   },
   "file_extension": ".py",
   "mimetype": "text/x-python",
   "name": "python",
   "nbconvert_exporter": "python",
   "pygments_lexer": "ipython3",
   "version": "3.7.6"
  }
 },
 "nbformat": 4,
 "nbformat_minor": 4
}
